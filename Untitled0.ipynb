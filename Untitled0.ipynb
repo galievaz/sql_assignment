{
  "nbformat": 4,
  "nbformat_minor": 0,
  "metadata": {
    "colab": {
      "provenance": []
    },
    "kernelspec": {
      "name": "python3",
      "display_name": "Python 3"
    },
    "language_info": {
      "name": "python"
    }
  },
  "cells": [
    {
      "cell_type": "code",
      "execution_count": 1,
      "metadata": {
        "colab": {
          "base_uri": "https://localhost:8080/"
        },
        "id": "_jWgA-XfK15d",
        "outputId": "27cf48e4-adce-4e0f-8ca3-3a6547a9824d"
      },
      "outputs": [
        {
          "output_type": "stream",
          "name": "stdout",
          "text": [
            "Looking in indexes: https://pypi.org/simple, https://us-python.pkg.dev/colab-wheels/public/simple/\n",
            "\u001b[31mERROR: Could not find a version that satisfies the requirement sqlite3 (from versions: none)\u001b[0m\u001b[31m\n",
            "\u001b[0m\u001b[31mERROR: No matching distribution found for sqlite3\u001b[0m\u001b[31m\n",
            "\u001b[0m"
          ]
        }
      ],
      "source": [
        "!pip install sqlite3"
      ]
    },
    {
      "cell_type": "code",
      "source": [
        "import sqlite3"
      ],
      "metadata": {
        "id": "GK5nIBsyK5sE"
      },
      "execution_count": 1,
      "outputs": []
    },
    {
      "cell_type": "code",
      "source": [
        "conn = sqlite3.connect('test.db')\n",
        " \n",
        "conn.execute('''\n",
        "CREATE TABLE campaign_comms_user_level (\n",
        "campaign_id INTEGER,\n",
        "user_id INTEGER,\n",
        "date_sent INTEGER,\n",
        "opened_email INTEGER,\n",
        "clicked_on_link INTEGER,\n",
        "visited_landing_page INTEGER,\n",
        "converted INTEGER\n",
        ");''')"
      ],
      "metadata": {
        "colab": {
          "base_uri": "https://localhost:8080/"
        },
        "id": "mdVxulNiLDLQ",
        "outputId": "3b516029-dc94-44ae-f6d9-4edd29b3945e"
      },
      "execution_count": 2,
      "outputs": [
        {
          "output_type": "execute_result",
          "data": {
            "text/plain": [
              "<sqlite3.Cursor at 0x7ff9fc7d09d0>"
            ]
          },
          "metadata": {},
          "execution_count": 2
        }
      ]
    },
    {
      "cell_type": "code",
      "source": [
        "conn.execute('''INSERT INTO campaign_comms_user_level VALUES (183946, 68324, 20180705, 1, 1, 0, 0);''')\n",
        "conn.execute('''INSERT INTO campaign_comms_user_level VALUES (183946, 65715, 20180712, 1, 0, 0, 0);''')\n",
        "conn.execute('''INSERT INTO campaign_comms_user_level VALUES (421564, 46546, 20180702, 1, 1, 1, 1);''')\n",
        "conn.execute('''INSERT INTO campaign_comms_user_level VALUES (654654, 86451, 20180801, 0, 0, 0, 0);''')\n",
        "conn.execute('''INSERT INTO campaign_comms_user_level VALUES (421564, 65158, 20180807, 1, 0, 0, 0);''')\n",
        "conn.commit()"
      ],
      "metadata": {
        "id": "-5m9FgWMLV2-"
      },
      "execution_count": 3,
      "outputs": []
    },
    {
      "cell_type": "code",
      "source": [
        "cursor = conn.execute(''' SELECT * FROM campaign_comms_user_level ''')\n",
        "for row in cursor:\n",
        "  print(row)"
      ],
      "metadata": {
        "colab": {
          "base_uri": "https://localhost:8080/"
        },
        "id": "u5CyjIHwMGgN",
        "outputId": "c31f3174-3aae-40ea-b2fe-15370b4e83c1"
      },
      "execution_count": 4,
      "outputs": [
        {
          "output_type": "stream",
          "name": "stdout",
          "text": [
            "(183946, 68324, 20180705, 1, 1, 0, 0)\n",
            "(183946, 65715, 20180712, 1, 0, 0, 0)\n",
            "(421564, 46546, 20180702, 1, 1, 1, 1)\n",
            "(654654, 86451, 20180801, 0, 0, 0, 0)\n",
            "(421564, 68324, 20180807, 1, 0, 0, 0)\n"
          ]
        }
      ]
    },
    {
      "cell_type": "code",
      "source": [
        "cursor = conn.execute('''SELECT \n",
        "\n",
        "    campaign_id, \n",
        "\n",
        "    COUNT (CASE WHEN campaign_comms_user_level.opened_email=1 THEN 1 END) AS opened_email, \n",
        "\n",
        "    COUNT (CASE WHEN  campaign_comms_user_level.clicked_on_link=1 THEN 1 END) AS clicked_on_link, \n",
        "\n",
        "    COUNT (CASE WHEN campaign_comms_user_level.visited_landing_page=1 THEN 1 END) AS visited_landing_page,\n",
        "    \n",
        "    COUNT (CASE WHEN campaign_comms_user_level.converted=1 THEN 1 END) AS converted \n",
        "\n",
        "FROM \n",
        "\n",
        "    campaign_comms_user_level \n",
        "\n",
        "WHERE \n",
        "\n",
        "    campaign_id IS NOT NULL \n",
        "\n",
        "GROUP BY \n",
        "\n",
        "    campaign_id;''')"
      ],
      "metadata": {
        "id": "RZ575iUmMVdP"
      },
      "execution_count": 5,
      "outputs": []
    },
    {
      "cell_type": "code",
      "source": [
        "for row in cursor:\n",
        "  print(row)"
      ],
      "metadata": {
        "colab": {
          "base_uri": "https://localhost:8080/"
        },
        "id": "jVBelmdHMf5E",
        "outputId": "37fd72f4-991f-4860-de27-0e662d0ff588"
      },
      "execution_count": 6,
      "outputs": [
        {
          "output_type": "stream",
          "name": "stdout",
          "text": [
            "(183946, 2, 1, 0, 0)\n",
            "(421564, 2, 1, 1, 1)\n",
            "(654654, 0, 0, 0, 0)\n"
          ]
        }
      ]
    },
    {
      "cell_type": "code",
      "source": [
        "cursor = conn.execute('''SELECT \n",
        "\n",
        "    campaign_id, \n",
        "\n",
        "    1.0*COUNT (CASE WHEN campaign_comms_user_level.opened_email THEN 1 END)/ COUNT (CASE WHEN campaign_comms_user_level.date_sent THEN 1 ELSE 1 END) AS p_opened_email, \n",
        "\n",
        "    1.0*COUNT (CASE WHEN  campaign_comms_user_level.clicked_on_link THEN 1 END)/ COUNT (CASE WHEN campaign_comms_user_level.opened_email THEN 1 ELSE 1 END) AS p_clicked_on_link, \n",
        "\n",
        "    1.0*COUNT (CASE WHEN campaign_comms_user_level.visited_landing_page THEN 1  END)/ COUNT (CASE WHEN campaign_comms_user_level.clicked_on_link THEN 1 ELSE 1 END) AS p_visited_landing_page,\n",
        "    \n",
        "    1.0*COUNT (CASE WHEN campaign_comms_user_level.converted THEN 1 END)/ COUNT (CASE WHEN campaign_comms_user_level.visited_landing_page THEN 1 ELSE 1 END) AS p_converted \n",
        "\n",
        "FROM \n",
        "\n",
        "    campaign_comms_user_level \n",
        "\n",
        "WHERE \n",
        "\n",
        "    campaign_id IS NOT NULL \n",
        "\n",
        "GROUP BY \n",
        "\n",
        "    campaign_id;''')"
      ],
      "metadata": {
        "id": "bAR2-EpyNBx6"
      },
      "execution_count": 7,
      "outputs": []
    },
    {
      "cell_type": "code",
      "source": [
        "for row in cursor:\n",
        "  print(row)"
      ],
      "metadata": {
        "colab": {
          "base_uri": "https://localhost:8080/"
        },
        "id": "OnTYD3h9NJoQ",
        "outputId": "cb0e6b60-9196-4666-9ef6-a1593c40a95b"
      },
      "execution_count": 8,
      "outputs": [
        {
          "output_type": "stream",
          "name": "stdout",
          "text": [
            "(183946, 1.0, 0.5, 0.0, 0.0)\n",
            "(421564, 1.0, 0.5, 0.5, 0.5)\n",
            "(654654, 0.0, 0.0, 0.0, 0.0)\n"
          ]
        }
      ]
    },
    {
      "cell_type": "code",
      "source": [
        "cursor = conn.execute('''SELECT\n",
        "\tcampaign_id,\n",
        "    1.0*COUNT (CASE WHEN campaign_comms_user_level.opened_email THEN 1 END)/ COUNT (CASE WHEN campaign_comms_user_level.date_sent THEN 1 ELSE 1 END) AS p_opened_sent_email \n",
        "FROM \n",
        "\n",
        "    campaign_comms_user_level \n",
        "\n",
        "WHERE \n",
        "\n",
        "    campaign_id IS NOT NULL \n",
        "\n",
        "GROUP BY \n",
        "\n",
        "    campaign_id\n",
        "ORDER BY p_opened_sent_email DESC\n",
        "LIMIT 1;''')\n",
        "for row in cursor:\n",
        "  print(row)"
      ],
      "metadata": {
        "colab": {
          "base_uri": "https://localhost:8080/"
        },
        "id": "r088G5UuTrEn",
        "outputId": "0c364f66-8040-4bd9-8e47-15534f68d304"
      },
      "execution_count": 9,
      "outputs": [
        {
          "output_type": "stream",
          "name": "stdout",
          "text": [
            "(421564, 1.0)\n"
          ]
        }
      ]
    },
    {
      "cell_type": "code",
      "source": [
        "cursor = conn.execute('''SELECT\n",
        "\tcampaign_id,\n",
        "    1.0*COUNT (CASE WHEN campaign_comms_user_level.converted THEN 1 END)/ COUNT (CASE WHEN campaign_comms_user_level.opened_email THEN 1 ELSE 1 END) AS p_converted_opened_email \n",
        "FROM \n",
        "\n",
        "    campaign_comms_user_level \n",
        "\n",
        "WHERE \n",
        "\n",
        "    campaign_id IS NOT NULL \n",
        "\n",
        "GROUP BY \n",
        "\n",
        "    campaign_id\n",
        "ORDER BY p_converted_opened_email DESC\n",
        "LIMIT 1;''')\n",
        "for row in cursor:\n",
        "  print(row)"
      ],
      "metadata": {
        "colab": {
          "base_uri": "https://localhost:8080/"
        },
        "id": "PTm2Py8rTuYP",
        "outputId": "2a4dc3f2-01be-4a43-fefb-ac55d80557a9"
      },
      "execution_count": 10,
      "outputs": [
        {
          "output_type": "stream",
          "name": "stdout",
          "text": [
            "(421564, 0.5)\n"
          ]
        }
      ]
    },
    {
      "cell_type": "code",
      "source": [
        "cursor = conn.execute('''SELECT\n",
        "\tcampaign_id,\n",
        "    1.0*COUNT (CASE WHEN campaign_comms_user_level.converted THEN 1 END)/ COUNT (CASE WHEN campaign_comms_user_level.opened_email THEN 1 ELSE 1 END) AS p_converted_opened_email \n",
        "FROM \n",
        "\n",
        "    campaign_comms_user_level \n",
        "\n",
        "WHERE \n",
        "\n",
        "    campaign_id IS NOT NULL \n",
        "\n",
        "GROUP BY \n",
        "\n",
        "    campaign_id\n",
        "ORDER BY p_converted_opened_email DESC\n",
        "LIMIT 1;''')\n",
        "for row in cursor:\n",
        "  print(row)"
      ],
      "metadata": {
        "id": "JDMTB4O9aR0U"
      },
      "execution_count": null,
      "outputs": []
    },
    {
      "cell_type": "code",
      "source": [
        "cursor = conn.execute('''SELECT\n",
        "\tcampaign_id,\n",
        "    1.0*COUNT (CASE WHEN campaign_comms_user_level.converted THEN 1 END)/ COUNT (CASE WHEN campaign_comms_user_level.opened_email THEN 1 ELSE 1 END) AS p_converted_opened_email \n",
        "FROM \n",
        "\n",
        "    campaign_comms_user_level \n",
        "\n",
        "WHERE \n",
        "\n",
        "    campaign_id IS NOT NULL \n",
        "\n",
        "GROUP BY \n",
        "\n",
        "    campaign_id\n",
        "ORDER BY p_converted_opened_email DESC\n",
        "LIMIT 1;''')\n",
        "for row in cursor:\n",
        "  print(row)"
      ],
      "metadata": {
        "id": "0khgBApNaSBe"
      },
      "execution_count": null,
      "outputs": []
    },
    {
      "cell_type": "markdown",
      "source": [],
      "metadata": {
        "id": "XwsSxZlabDhp"
      }
    },
    {
      "cell_type": "code",
      "source": [
        "conn.execute('''INSERT INTO campaign_comms_user_level VALUES (421564, 65150, 20180807, 1, 0, 0, 1);''')\n",
        "conn.execute('''INSERT INTO campaign_comms_user_level VALUES (421564, 65150, 20180807, 1, 0, 0, 1);''')\n",
        "conn.execute('''INSERT INTO campaign_comms_user_level VALUES (421564, 65150, 20180807, 1, 0, 0, 1);''')\n",
        "conn.execute('''INSERT INTO campaign_comms_user_level VALUES (421564, 65150, 20180807, 1, 0, 0, 1);''')\n",
        "conn.execute('''INSERT INTO campaign_comms_user_level VALUES (421564, 65150, 20180807, 1, 0, 0, 1);''')\n",
        "conn.commit()"
      ],
      "metadata": {
        "id": "coSIsnJybyxW"
      },
      "execution_count": null,
      "outputs": []
    },
    {
      "cell_type": "code",
      "source": [
        "conn.execute('''INSERT INTO campaign_comms_user_level VALUES (421564, 6515, 20180807, 1, 0, 0, 0);''')\n",
        "conn.execute('''INSERT INTO campaign_comms_user_level VALUES (421564, 6515, 20180807, 1, 0, 0, 0);''')\n",
        "conn.execute('''INSERT INTO campaign_comms_user_level VALUES (421564, 6515, 20180807, 1, 0, 0, 0);''')\n",
        "conn.execute('''INSERT INTO campaign_comms_user_level VALUES (421564, 6515, 20180807, 1, 0, 0, 0);''')\n",
        "conn.execute('''INSERT INTO campaign_comms_user_level VALUES (421564, 6515, 20180807, 1, 0, 0, 0);''')\n",
        "conn.commit()"
      ],
      "metadata": {
        "id": "d0KudKX0bXwa"
      },
      "execution_count": null,
      "outputs": []
    },
    {
      "cell_type": "code",
      "source": [],
      "metadata": {
        "id": "twIV33HFbyKi"
      },
      "execution_count": null,
      "outputs": []
    },
    {
      "cell_type": "code",
      "source": [
        "#b. Find the most successful campaign in terms of\n",
        "# i) proportion of opened (among sent) emails\n",
        "SELECT\n",
        "\tcampaign_id,\n",
        "    1.0*COUNT (CASE WHEN campaign_comms_user_level.opened_email THEN 1 END)/ COUNT (CASE WHEN campaign_comms_user_level.date_sent THEN 1 ELSE 1 END) AS p_opened_sent_email \n",
        "FROM \n",
        "\n",
        "    campaign_comms_user_level \n",
        "\n",
        "WHERE \n",
        "\n",
        "    campaign_id IS NOT NULL \n",
        "\n",
        "GROUP BY \n",
        "\n",
        "    campaign_id\n",
        "ORDER BY p_opened_sent_email DESC\n",
        "LIMIT 1;"
      ],
      "metadata": {
        "id": "HMW8YBGubKSD"
      },
      "execution_count": null,
      "outputs": []
    },
    {
      "cell_type": "code",
      "source": [
        "#b. Find the most successful campaign in terms of\n",
        "# ii) proportion of conversions among emails opened.\n",
        "SELECT\n",
        "\tcampaign_id,\n",
        "    1.0*COUNT (CASE WHEN campaign_comms_user_level.converted THEN 1 END)/ COUNT (CASE WHEN campaign_comms_user_level.opened_email THEN 1 ELSE 1 END) AS p_converted_opened_email \n",
        "FROM \n",
        "\n",
        "    campaign_comms_user_level \n",
        "\n",
        "WHERE \n",
        "\n",
        "    campaign_id IS NOT NULL \n",
        "\n",
        "GROUP BY \n",
        "\n",
        "    campaign_id\n",
        "ORDER BY p_converted_opened_email DESC\n",
        "LIMIT 1;"
      ],
      "metadata": {
        "id": "pngukvSkbCzX"
      },
      "execution_count": null,
      "outputs": []
    },
    {
      "cell_type": "markdown",
      "source": [
        "c. Find all users who were contacted with at least 5 campaigns and\n",
        "i) converted in more than 75% of cases\n",
        "ii) never converted."
      ],
      "metadata": {
        "id": "UeEIU3qNalK8"
      }
    },
    {
      "cell_type": "code",
      "source": [
        "# Find all users who were contacted with at least 5 campaigns i) converted in more than 75% of cases\n",
        "\n",
        "SELECT\n",
        "\tuser_id\n",
        "FROM \n",
        "\n",
        "    campaign_comms_user_level \n",
        "GROUP BY\n",
        "\n",
        "\tuser_id\n",
        "HAVING\t\n",
        "\tCOUNT(DISTINCT(campaign_id))>=5 AND (COUNT(converted)/COUNT(*))>0.75;"
      ],
      "metadata": {
        "id": "YQVvx-cwa034"
      },
      "execution_count": null,
      "outputs": []
    },
    {
      "cell_type": "code",
      "source": [
        "# Find all users who were contacted with at least 5 campaigns and ii) never converted.\n",
        "\n",
        "SELECT\n",
        "\tuser_id\n",
        "FROM \n",
        "\n",
        "    campaign_comms_user_level \n",
        "GROUP BY\n",
        "\n",
        "\tuser_id\n",
        "HAVING\t\n",
        "\tCOUNT(DISTINCT(campaign_id))>=5 AND SUM(converted)=0;"
      ],
      "metadata": {
        "id": "hT3nvBkxarsL"
      },
      "execution_count": null,
      "outputs": []
    }
  ]
}