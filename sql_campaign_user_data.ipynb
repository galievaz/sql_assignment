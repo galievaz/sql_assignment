{
  "nbformat": 4,
  "nbformat_minor": 0,
  "metadata": {
    "colab": {
      "provenance": []
    },
    "kernelspec": {
      "name": "python3",
      "display_name": "Python 3"
    },
    "language_info": {
      "name": "python"
    }
  },
  "cells": [
    {
      "cell_type": "code",
      "execution_count": 1,
      "metadata": {
        "colab": {
          "base_uri": "https://localhost:8080/"
        },
        "id": "_jWgA-XfK15d",
        "outputId": "6baaa370-ad98-4194-8b76-2fda256f13c4"
      },
      "outputs": [
        {
          "output_type": "stream",
          "name": "stdout",
          "text": [
            "Looking in indexes: https://pypi.org/simple, https://us-python.pkg.dev/colab-wheels/public/simple/\n",
            "\u001b[31mERROR: Could not find a version that satisfies the requirement sqlite3 (from versions: none)\u001b[0m\u001b[31m\n",
            "\u001b[0m\u001b[31mERROR: No matching distribution found for sqlite3\u001b[0m\u001b[31m\n",
            "\u001b[0m"
          ]
        }
      ],
      "source": [
        "!pip install sqlite3"
      ]
    },
    {
      "cell_type": "code",
      "source": [
        "import sqlite3"
      ],
      "metadata": {
        "id": "GK5nIBsyK5sE"
      },
      "execution_count": 1,
      "outputs": []
    },
    {
      "cell_type": "code",
      "source": [
        "conn = sqlite3.connect('test.db')\n",
        " \n",
        "conn.execute('''\n",
        "CREATE TABLE campaign_comms_user_level (\n",
        "campaign_id INTEGER,\n",
        "user_id INTEGER,\n",
        "date_sent INTEGER,\n",
        "opened_email INTEGER,\n",
        "clicked_on_link INTEGER,\n",
        "visited_landing_page INTEGER,\n",
        "converted INTEGER\n",
        ");''')"
      ],
      "metadata": {
        "colab": {
          "base_uri": "https://localhost:8080/"
        },
        "id": "mdVxulNiLDLQ",
        "outputId": "d54bf7de-d4e0-432e-e3b0-4f9c9698c48d"
      },
      "execution_count": 2,
      "outputs": [
        {
          "output_type": "execute_result",
          "data": {
            "text/plain": [
              "<sqlite3.Cursor at 0x7f7ab028c650>"
            ]
          },
          "metadata": {},
          "execution_count": 2
        }
      ]
    },
    {
      "cell_type": "code",
      "source": [
        "conn.execute('''INSERT INTO campaign_comms_user_level VALUES (183946, 68324, 20180705, 1, 1, 0, 0);''')\n",
        "conn.execute('''INSERT INTO campaign_comms_user_level VALUES (183946, 65715, 20180712, 1, 0, 0, 0);''')\n",
        "conn.execute('''INSERT INTO campaign_comms_user_level VALUES (421564, 46546, 20180702, 1, 1, 1, 1);''')\n",
        "conn.execute('''INSERT INTO campaign_comms_user_level VALUES (654654, 86451, 20180801, 0, 0, 0, 0);''')\n",
        "conn.execute('''INSERT INTO campaign_comms_user_level VALUES (421564, 65158, 20180807, 1, 0, 0, 0);''')\n",
        "conn.commit()"
      ],
      "metadata": {
        "id": "-5m9FgWMLV2-"
      },
      "execution_count": 3,
      "outputs": []
    },
    {
      "cell_type": "code",
      "source": [
        "cursor = conn.execute(''' SELECT * FROM campaign_comms_user_level ''')\n",
        "for row in cursor:\n",
        "  print(row)"
      ],
      "metadata": {
        "colab": {
          "base_uri": "https://localhost:8080/"
        },
        "id": "u5CyjIHwMGgN",
        "outputId": "ed3d5a99-51ea-4831-979c-643e8092a859"
      },
      "execution_count": 4,
      "outputs": [
        {
          "output_type": "stream",
          "name": "stdout",
          "text": [
            "(183946, 68324, 20180705, 1, 1, 0, 0)\n",
            "(183946, 65715, 20180712, 1, 0, 0, 0)\n",
            "(421564, 46546, 20180702, 1, 1, 1, 1)\n",
            "(654654, 86451, 20180801, 0, 0, 0, 0)\n",
            "(421564, 65158, 20180807, 1, 0, 0, 0)\n"
          ]
        }
      ]
    },
    {
      "cell_type": "markdown",
      "source": [
        "a.\tCalculate a “funnel” per campaign (= ordered milestones with proportion of successes in each milestone based on the successes in the previous milestone)."
      ],
      "metadata": {
        "id": "_rE-8jDROYo_"
      }
    },
    {
      "cell_type": "code",
      "source": [
        "#a.\tCalculate a “funnel” per campaign (= ordered milestones with proportion of successes in each milestone based on the successes in the previous milestone).\n",
        "cursor = conn.execute('''SELECT \n",
        "\n",
        "    campaign_id, \n",
        "\n",
        "    COUNT (CASE WHEN campaign_comms_user_level.opened_email=1 THEN 1 END) AS opened_email, \n",
        "\n",
        "    COUNT (CASE WHEN  campaign_comms_user_level.clicked_on_link=1 THEN 1 END) AS clicked_on_link, \n",
        "\n",
        "    COUNT (CASE WHEN campaign_comms_user_level.visited_landing_page=1 THEN 1 END) AS visited_landing_page,\n",
        "    \n",
        "    COUNT (CASE WHEN campaign_comms_user_level.converted=1 THEN 1 END) AS converted \n",
        "\n",
        "FROM \n",
        "\n",
        "    campaign_comms_user_level \n",
        "\n",
        "WHERE \n",
        "\n",
        "    campaign_id IS NOT NULL \n",
        "\n",
        "GROUP BY \n",
        "\n",
        "    campaign_id;''')\n",
        "for row in cursor:\n",
        "  print(row)\n",
        "\n",
        "# Expected output\n",
        "# (183946, 2, 1, 0, 0)\n",
        "# (421564, 2, 1, 1, 1)\n",
        "# (654654, 0, 0, 0, 0)"
      ],
      "metadata": {
        "id": "RZ575iUmMVdP",
        "colab": {
          "base_uri": "https://localhost:8080/"
        },
        "outputId": "4fa0c5a2-ce9f-4a53-a20f-b181be46a76a"
      },
      "execution_count": 7,
      "outputs": [
        {
          "output_type": "stream",
          "name": "stdout",
          "text": [
            "(183946, 2, 1, 0, 0)\n",
            "(421564, 2, 1, 1, 1)\n",
            "(654654, 0, 0, 0, 0)\n"
          ]
        }
      ]
    },
    {
      "cell_type": "markdown",
      "source": [
        "There are numbers of events for each campaign id"
      ],
      "metadata": {
        "id": "XWYDSYVJOei1"
      }
    },
    {
      "cell_type": "code",
      "source": [
        "\n",
        "\n",
        "cursor = conn.execute('''SELECT \n",
        "\n",
        "    campaign_id, \n",
        "\n",
        "    1.0*COUNT (CASE WHEN campaign_comms_user_level.opened_email THEN 1 END)/ COUNT (CASE WHEN campaign_comms_user_level.date_sent THEN 1 ELSE 1 END) AS p_opened_email, \n",
        "\n",
        "    1.0*COUNT (CASE WHEN  campaign_comms_user_level.clicked_on_link THEN 1 END)/ COUNT (CASE WHEN campaign_comms_user_level.opened_email THEN 1 ELSE 1 END) AS p_clicked_on_link, \n",
        "\n",
        "    1.0*COUNT (CASE WHEN campaign_comms_user_level.visited_landing_page THEN 1  END)/ COUNT (CASE WHEN campaign_comms_user_level.clicked_on_link THEN 1 ELSE 1 END) AS p_visited_landing_page,\n",
        "    \n",
        "    1.0*COUNT (CASE WHEN campaign_comms_user_level.converted THEN 1 END)/ COUNT (CASE WHEN campaign_comms_user_level.visited_landing_page THEN 1 ELSE 1 END) AS p_converted \n",
        "\n",
        "FROM \n",
        "\n",
        "    campaign_comms_user_level \n",
        "\n",
        "WHERE \n",
        "\n",
        "    campaign_id IS NOT NULL \n",
        "\n",
        "GROUP BY \n",
        "\n",
        "    campaign_id;''')\n",
        "for row in cursor:\n",
        "  print(row)\n",
        "\n",
        "# Expected output\n",
        "# (183946, 1.0, 0.5, 0.0, 0.0)\n",
        "# (421564, 1.0, 0.5, 0.5, 0.5)\n",
        "# (654654, 0.0, 0.0, 0.0, 0.0)"
      ],
      "metadata": {
        "id": "bAR2-EpyNBx6",
        "colab": {
          "base_uri": "https://localhost:8080/"
        },
        "outputId": "8f4cd052-cfab-4c49-e478-6198266b419b"
      },
      "execution_count": 8,
      "outputs": [
        {
          "output_type": "stream",
          "name": "stdout",
          "text": [
            "(183946, 1.0, 0.5, 0.0, 0.0)\n",
            "(421564, 1.0, 0.5, 0.5, 0.5)\n",
            "(654654, 0.0, 0.0, 0.0, 0.0)\n"
          ]
        }
      ]
    },
    {
      "cell_type": "markdown",
      "source": [
        "There are ratios of numbers of successful each events divided on number of previos milestone event"
      ],
      "metadata": {
        "id": "ICGJMadaOnJr"
      }
    },
    {
      "cell_type": "code",
      "source": [
        "conn.execute('''INSERT INTO campaign_comms_user_level VALUES (421564, 65150, 20180807, 1, 0, 0, 1);''')\n",
        "conn.execute('''INSERT INTO campaign_comms_user_level VALUES (421564, 65150, 20180807, 1, 0, 0, 1);''')\n",
        "conn.execute('''INSERT INTO campaign_comms_user_level VALUES (421564, 65150, 20180807, 1, 0, 0, 1);''')\n",
        "conn.execute('''INSERT INTO campaign_comms_user_level VALUES (421564, 65150, 20180807, 1, 0, 0, 1);''')\n",
        "conn.execute('''INSERT INTO campaign_comms_user_level VALUES (421564, 65150, 20180807, 1, 0, 0, 1);''')\n",
        "conn.commit()"
      ],
      "metadata": {
        "id": "coSIsnJybyxW"
      },
      "execution_count": 13,
      "outputs": []
    },
    {
      "cell_type": "code",
      "source": [
        "#b. Find the most successful campaign in terms of\n",
        "# i) proportion of opened (among sent) emails\n",
        "cursor = conn.execute('''SELECT\n",
        "\tcampaign_id,\n",
        "    1.0*COUNT (CASE WHEN campaign_comms_user_level.opened_email THEN 1 END)/ COUNT (CASE WHEN campaign_comms_user_level.date_sent THEN 1 ELSE 1 END) AS ratio_opened_sent_email \n",
        "FROM \n",
        "\n",
        "    campaign_comms_user_level \n",
        "\n",
        "WHERE \n",
        "\n",
        "    campaign_id IS NOT NULL \n",
        "\n",
        "GROUP BY \n",
        "\n",
        "    campaign_id\n",
        "ORDER BY ratio_opened_sent_email DESC\n",
        "LIMIT 1;''');\n",
        "for row in cursor:\n",
        "  print(row)\n",
        "#Expected output \n",
        "#(421564, 1.0)"
      ],
      "metadata": {
        "id": "HMW8YBGubKSD",
        "colab": {
          "base_uri": "https://localhost:8080/"
        },
        "outputId": "f81e9935-7a1e-4eaf-9d5f-770d59b6367e"
      },
      "execution_count": 14,
      "outputs": [
        {
          "output_type": "stream",
          "name": "stdout",
          "text": [
            "(421564, 1.0)\n"
          ]
        }
      ]
    },
    {
      "cell_type": "code",
      "source": [
        "#b. Find the most successful campaign in terms of\n",
        "# ii) proportion of conversions among emails opened.\n",
        "cursor = conn.execute('''SELECT\n",
        "\tcampaign_id,\n",
        "    1.0*COUNT (CASE WHEN campaign_comms_user_level.converted THEN 1 END)/ COUNT (CASE WHEN campaign_comms_user_level.opened_email THEN 1 ELSE 1 END) AS ratio_converted_opened_email \n",
        "FROM \n",
        "\n",
        "    campaign_comms_user_level \n",
        "\n",
        "WHERE \n",
        "\n",
        "    campaign_id IS NOT NULL \n",
        "\n",
        "GROUP BY \n",
        "\n",
        "    campaign_id\n",
        "ORDER BY ratio_converted_opened_email DESC\n",
        "LIMIT 1;''');\n",
        "for row in cursor:\n",
        "  print(row)\n",
        "#Expected output -  6 conversions /7 sent emails from campaign id 421564\n",
        "#(421564, 0.8571428571428571)"
      ],
      "metadata": {
        "id": "pngukvSkbCzX",
        "colab": {
          "base_uri": "https://localhost:8080/"
        },
        "outputId": "8f06f2c1-a731-4b1a-b1fc-d03e1a48587b"
      },
      "execution_count": 15,
      "outputs": [
        {
          "output_type": "stream",
          "name": "stdout",
          "text": [
            "(421564, 0.8571428571428571)\n"
          ]
        }
      ]
    },
    {
      "cell_type": "code",
      "source": [
        "cursor = conn.execute(''' SELECT * FROM campaign_comms_user_level WHERE campaign_id=421564''')\n",
        "for row in cursor:\n",
        "  print(row)"
      ],
      "metadata": {
        "colab": {
          "base_uri": "https://localhost:8080/"
        },
        "id": "V83u_IYNQE2k",
        "outputId": "3baa07ee-e5b7-4eb2-edf6-7ed05f43c1f0"
      },
      "execution_count": 17,
      "outputs": [
        {
          "output_type": "stream",
          "name": "stdout",
          "text": [
            "(421564, 46546, 20180702, 1, 1, 1, 1)\n",
            "(421564, 65158, 20180807, 1, 0, 0, 0)\n",
            "(421564, 65150, 20180807, 1, 0, 0, 1)\n",
            "(421564, 65150, 20180807, 1, 0, 0, 1)\n",
            "(421564, 65150, 20180807, 1, 0, 0, 1)\n",
            "(421564, 65150, 20180807, 1, 0, 0, 1)\n",
            "(421564, 65150, 20180807, 1, 0, 0, 1)\n"
          ]
        }
      ]
    },
    {
      "cell_type": "markdown",
      "source": [
        "c. Find all users who were contacted with at least 5 campaigns and\n",
        "i) converted in more than 75% of cases\n",
        "ii) never converted."
      ],
      "metadata": {
        "id": "UeEIU3qNalK8"
      }
    },
    {
      "cell_type": "code",
      "source": [
        "conn.execute('''INSERT INTO campaign_comms_user_level VALUES (421560, 65150, 20180807, 1, 0, 0, 1);''')\n",
        "conn.execute('''INSERT INTO campaign_comms_user_level VALUES (421561, 65150, 20180807, 1, 0, 0, 1);''')\n",
        "conn.execute('''INSERT INTO campaign_comms_user_level VALUES (421562, 65150, 20180807, 1, 0, 0, 1);''')\n",
        "conn.execute('''INSERT INTO campaign_comms_user_level VALUES (421563, 65150, 20180807, 1, 0, 0, 1);''')\n",
        "conn.execute('''INSERT INTO campaign_comms_user_level VALUES (421565, 65150, 20180807, 1, 0, 0, 1);''')\n",
        "conn.commit()"
      ],
      "metadata": {
        "id": "ufRaWCiAFU5Z"
      },
      "execution_count": 18,
      "outputs": []
    },
    {
      "cell_type": "code",
      "source": [
        "# Find all users who were contacted with at least 5 campaigns i) converted in more than 75% of cases\n",
        "\n",
        "cursor = conn.execute('''SELECT\n",
        "\t\tuser_id\n",
        "FROM \n",
        "    campaign_comms_user_level \n",
        "GROUP BY\n",
        "\t\tuser_id\n",
        "HAVING\t\n",
        "\t\tCOUNT(DISTINCT(campaign_id))>=5 AND (COUNT(converted)/COUNT(*))>0.75;''');\n",
        "for row in cursor:\n",
        "  print(row)\n",
        "\n",
        "#Expected output \n",
        "#(65150,)"
      ],
      "metadata": {
        "id": "YQVvx-cwa034",
        "colab": {
          "base_uri": "https://localhost:8080/"
        },
        "outputId": "17631e81-7fff-4640-ff31-c0e6357f6069"
      },
      "execution_count": 19,
      "outputs": [
        {
          "output_type": "stream",
          "name": "stdout",
          "text": [
            "(65150,)\n"
          ]
        }
      ]
    },
    {
      "cell_type": "code",
      "source": [
        "conn.execute('''INSERT INTO campaign_comms_user_level VALUES (421560, 6515012, 20180807, 1, 0, 0, 0);''')\n",
        "conn.execute('''INSERT INTO campaign_comms_user_level VALUES (421561, 6515012, 20180807, 1, 0, 0, 0);''')\n",
        "conn.execute('''INSERT INTO campaign_comms_user_level VALUES (421562, 6515012, 20180807, 1, 0, 0, 0);''')\n",
        "conn.execute('''INSERT INTO campaign_comms_user_level VALUES (421563, 6515012, 20180807, 1, 0, 0, 0);''')\n",
        "conn.execute('''INSERT INTO campaign_comms_user_level VALUES (421565, 6515012, 20180807, 1, 0, 0, 0);''')\n",
        "conn.commit()"
      ],
      "metadata": {
        "id": "o1JD8U4uFfC_"
      },
      "execution_count": 20,
      "outputs": []
    },
    {
      "cell_type": "code",
      "source": [
        "# Find all users who were contacted with at least 5 campaigns and ii) never converted.\n",
        "\n",
        "cursor = conn.execute('''SELECT\n",
        "\t\tuser_id\n",
        "FROM \n",
        "    \t\tcampaign_comms_user_level \n",
        "GROUP BY\n",
        "\t\t\t\tuser_id\n",
        "HAVING\t\n",
        "\t\t\t\tCOUNT(DISTINCT(campaign_id))>=5 AND SUM(converted)=0;\n",
        "\t''');\n",
        "for row in cursor:\n",
        "  print(row)\n",
        "\n",
        "\t#Expected output\n",
        "\t# (6515012,)"
      ],
      "metadata": {
        "id": "hT3nvBkxarsL",
        "colab": {
          "base_uri": "https://localhost:8080/"
        },
        "outputId": "c4030535-d461-4ce8-d54a-d7e0e182ccc6"
      },
      "execution_count": 21,
      "outputs": [
        {
          "output_type": "stream",
          "name": "stdout",
          "text": [
            "(6515012,)\n"
          ]
        }
      ]
    },
    {
      "cell_type": "markdown",
      "source": [
        "2.\tRegarding the metrics calculated in the previous task, is there any methodological issue / something we need to take care of? How would you assess the quality of the data stored in campaign_comms_user_level?\n",
        " \n",
        "Answer:\n",
        "\n",
        "There are could be incorrectly calculated metrics in case of moving on next event will be triggered further milestones skipping previous steps, for example if email functionality provides opportunity without opening email to click on  link in content of message (on a title of message)\n",
        "So that means in case of succesful final step(converted=1) but previous actions in data filled as 0, replace them by 1.\n",
        "\n",
        "The table campaign_comms_user_levels seems that probably was created by pivot function,they were beed aggregated from original data comms_user. The wide format of storing in the format does not consume so much size and readable instead of long original logs. \n",
        "\n"
      ],
      "metadata": {
        "id": "ZvK-1t2jR8O5"
      }
    },
    {
      "cell_type": "markdown",
      "source": [
        "3.\tWrite an SQL script which creates the above table (campaign_comms_user_level) using only the information from the table below (called campaign_comms): \n",
        " \n",
        "date \tcampaign_id \tuser_id \tevent \n",
        "\n",
        " 20180722 \t183946 \t657464654 \topened_email \n",
        "\n",
        "20180801 \t421564 \t6874654651 \tconverted \n",
        "\n",
        " \n",
        "Where event can have the following values:  \n",
        "•\t‘email_sent’, ‘email_opened’, ‘clicked_on_link’, ‘visited_landing_page’, ‘converted’ \n"
      ],
      "metadata": {
        "id": "g4XMN8rxMrQo"
      }
    },
    {
      "cell_type": "code",
      "source": [
        "cursor = conn.execute('''CREATE TABLE campaign_comms(\n",
        "  date INTEGER,\n",
        "  campaign_id INTEGER,\n",
        "  user_id INTEGER,\n",
        "  event VARCHAR(20)\n",
        ");''')\n",
        "for row in cursor:\n",
        "  print(row)"
      ],
      "metadata": {
        "id": "9mfTo17_IeAj"
      },
      "execution_count": 22,
      "outputs": []
    },
    {
      "cell_type": "code",
      "source": [
        "cursor = conn.execute('''INSERT INTO campaign_comms VALUES (20180722, \t183946, \t657464654, 'opened_email');''');\n",
        "cursor = conn.execute('''INSERT INTO campaign_comms VALUES (20180801, 421564, \t6874654651, 'converted');''')\n",
        "cursor = conn.execute(''' SELECT * FROM campaign_comms;''')\n",
        "for row in cursor:\n",
        "  print(row)\n"
      ],
      "metadata": {
        "colab": {
          "base_uri": "https://localhost:8080/"
        },
        "id": "NTkHWpl4Im0H",
        "outputId": "dd817463-ec01-4556-bd33-0f4b6c7c23e9"
      },
      "execution_count": 23,
      "outputs": [
        {
          "output_type": "stream",
          "name": "stdout",
          "text": [
            "(20180722, 183946, 657464654, 'opened_email')\n",
            "(20180801, 421564, 6874654651, 'converted')\n"
          ]
        }
      ]
    },
    {
      "cell_type": "code",
      "source": [
        "\n",
        "cursor = conn.execute('''CREATE TABLE campaign_comms_user_level1 AS \n",
        "\tSELECT date AS date_sent, campaign_id, user_id, \n",
        "      SUM (CASE WHEN event = 'opened_email' THEN 1 ELSE 0 END) AS opened_email,\n",
        "      SUM (CASE WHEN event  = 'clicked_on_link' THEN 1 ELSE 0 END) AS clicked_on_link,\n",
        "      SUM (CASE WHEN event  = 'visited_landing_page' THEN 1 ELSE 0 END) AS visited_landing_page,\n",
        "      SUM (CASE WHEN event  = 'converted' THEN 1 ELSE 0 END) AS converted\n",
        "     FROM campaign_comms\n",
        "     GROUP BY user_id;''')\n",
        "\n",
        "\n"
      ],
      "metadata": {
        "id": "ZWUB6Ks2ID6r"
      },
      "execution_count": 25,
      "outputs": []
    },
    {
      "cell_type": "code",
      "source": [
        "cursor = conn.execute('''SELECT * FROM campaign_comms_user_level1;''')\n",
        "for row in cursor:\n",
        "  print(row)\n",
        "\n",
        "# Expected output\n",
        "# (20180722, 183946, 657464654, 1, 0, 0, 0)\n",
        "# (20180801, 421564, 6874654651, 0, 0, 0, 1)"
      ],
      "metadata": {
        "colab": {
          "base_uri": "https://localhost:8080/"
        },
        "id": "lOSKXkn4KXBO",
        "outputId": "f6b14e72-da94-4131-8f44-f84a1bb28e28"
      },
      "execution_count": 26,
      "outputs": [
        {
          "output_type": "stream",
          "name": "stdout",
          "text": [
            "(20180722, 183946, 657464654, 1, 0, 0, 0)\n",
            "(20180801, 421564, 6874654651, 0, 0, 0, 1)\n"
          ]
        }
      ]
    }
  ]
}